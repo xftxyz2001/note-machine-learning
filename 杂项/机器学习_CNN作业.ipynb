{
 "cells": [
  {
   "cell_type": "markdown",
   "metadata": {},
   "source": [
    "![](https://img.ketangpai.com/ketangpai.aliapp.com/1/webroot/Uploads/Download/2022-11-05/636602b5478a2.png)"
   ]
  },
  {
   "cell_type": "code",
   "execution_count": 1,
   "metadata": {},
   "outputs": [],
   "source": [
    "import tensorflow as tf\n",
    "# 导入数据\n",
    "mnist = tf.keras.datasets.mnist\n",
    "(x_train, y_train), (x_test, y_test) = mnist.load_data()\n"
   ]
  },
  {
   "cell_type": "code",
   "execution_count": 2,
   "metadata": {},
   "outputs": [],
   "source": [
    "# 划分训练集、测试集\n",
    "x_train, x_test = x_train/255., x_test/255.\n",
    "# 对原始数据进行增维处理，\n",
    "x_train = tf.expand_dims(x_train, -1)\n",
    "x_test = tf.expand_dims(x_test, -1)\n"
   ]
  },
  {
   "cell_type": "code",
   "execution_count": 3,
   "metadata": {},
   "outputs": [],
   "source": [
    "import numpy as np\n",
    "y_train = np.float32(tf.keras.utils.to_categorical(y_train, num_classes=10))\n",
    "y_test = np.float32(tf.keras.utils.to_categorical(y_test, num_classes=10))\n",
    "\n",
    "batch_size = 512\n",
    "train_dataset = tf.data.Dataset.from_tensor_slices(\n",
    "    (x_train, y_train)).batch(batch_size).shuffle(batch_size*10)\n",
    "test_dataset = tf.data.Dataset.from_tensor_slices(\n",
    "    (x_test, y_test)).batch(batch_size)\n"
   ]
  },
  {
   "cell_type": "code",
   "execution_count": 4,
   "metadata": {},
   "outputs": [
    {
     "name": "stdout",
     "output_type": "stream",
     "text": [
      "Model: \"model\"\n",
      "_________________________________________________________________\n",
      " Layer (type)                Output Shape              Param #   \n",
      "=================================================================\n",
      " input_1 (InputLayer)        [(None, 28, 28, 1)]       0         \n",
      "                                                                 \n",
      " batch_normalization (BatchN  (None, 28, 28, 1)        4         \n",
      " ormalization)                                                   \n",
      "                                                                 \n",
      " conv2d (Conv2D)             (None, 28, 28, 32)        320       \n",
      "                                                                 \n",
      " conv2d_1 (Conv2D)           (None, 28, 28, 64)        18496     \n",
      "                                                                 \n",
      " max_pooling2d (MaxPooling2D  (None, 27, 27, 64)       0         \n",
      " )                                                               \n",
      "                                                                 \n",
      " conv2d_2 (Conv2D)           (None, 27, 27, 128)       73856     \n",
      "                                                                 \n",
      " flatten (Flatten)           (None, 93312)             0         \n",
      "                                                                 \n",
      " dense (Dense)               (None, 512)               47776256  \n",
      "                                                                 \n",
      " dense_1 (Dense)             (None, 10)                5130      \n",
      "                                                                 \n",
      "=================================================================\n",
      "Total params: 47,874,062\n",
      "Trainable params: 47,874,060\n",
      "Non-trainable params: 2\n",
      "_________________________________________________________________\n",
      "None\n"
     ]
    }
   ],
   "source": [
    "input_xs = tf.keras.Input([28, 28, 1])\n",
    "conv = tf.keras.layers.BatchNormalization()(input_xs)\n",
    "conv = tf.keras.layers.Conv2D(\n",
    "    32, 3, padding='SAME', activation=tf.nn.relu)(conv)\n",
    "conv = tf.keras.layers.Conv2D(\n",
    "    64, 3, padding='SAME', activation=tf.nn.relu)(conv)\n",
    "conv = tf.keras.layers.MaxPool2D(strides=[1, 1])(conv)\n",
    "conv = tf.keras.layers.Conv2D(\n",
    "    128, 3, padding='SAME', activation=tf.nn.relu)(conv)\n",
    "flat = tf.keras.layers.Flatten()(conv)\n",
    "dense = tf.keras.layers.Dense(512, activation=tf.nn.relu)(flat)\n",
    "logits = tf.keras.layers.Dense(10, activation=tf.nn.softmax)(dense)\n",
    "model = tf.keras.Model(inputs=input_xs, outputs=logits)\n",
    "print(model.summary())\n"
   ]
  },
  {
   "cell_type": "code",
   "execution_count": 5,
   "metadata": {},
   "outputs": [],
   "source": [
    "model.compile(optimizer=tf.optimizers.Adam(1e-3),\n",
    "              loss=tf.losses.categorical_crossentropy,\n",
    "              metrics=['accuracy'])\n",
    "\n"
   ]
  },
  {
   "cell_type": "code",
   "execution_count": 6,
   "metadata": {},
   "outputs": [
    {
     "name": "stdout",
     "output_type": "stream",
     "text": [
      "Epoch 1/10\n",
      "118/118 [==============================] - 189s 2s/step - loss: 0.2602 - accuracy: 0.9317\n",
      "Epoch 2/10\n",
      "118/118 [==============================] - 188s 2s/step - loss: 0.0394 - accuracy: 0.9879\n",
      "Epoch 3/10\n",
      "118/118 [==============================] - 198s 2s/step - loss: 0.0222 - accuracy: 0.9931\n",
      "Epoch 4/10\n",
      "118/118 [==============================] - 192s 2s/step - loss: 0.0139 - accuracy: 0.9955\n",
      "Epoch 5/10\n",
      "118/118 [==============================] - 189s 2s/step - loss: 0.0114 - accuracy: 0.9960\n",
      "Epoch 6/10\n",
      "118/118 [==============================] - 190s 2s/step - loss: 0.0068 - accuracy: 0.9978\n",
      "Epoch 7/10\n",
      "118/118 [==============================] - 190s 2s/step - loss: 0.0043 - accuracy: 0.9986\n",
      "Epoch 8/10\n",
      "118/118 [==============================] - 190s 2s/step - loss: 0.0054 - accuracy: 0.9982\n",
      "Epoch 9/10\n",
      "118/118 [==============================] - 189s 2s/step - loss: 0.0077 - accuracy: 0.9978\n",
      "Epoch 10/10\n",
      "118/118 [==============================] - 189s 2s/step - loss: 0.0061 - accuracy: 0.9979\n"
     ]
    },
    {
     "data": {
      "text/plain": [
       "<keras.callbacks.History at 0x25982573520>"
      ]
     },
     "execution_count": 6,
     "metadata": {},
     "output_type": "execute_result"
    }
   ],
   "source": [
    "model.fit(train_dataset, epochs=10)\n"
   ]
  },
  {
   "cell_type": "code",
   "execution_count": 7,
   "metadata": {},
   "outputs": [
    {
     "name": "stdout",
     "output_type": "stream",
     "text": [
      "20/20 [==============================] - 7s 348ms/step - loss: 0.0309 - accuracy: 0.9916\n",
      "last score: [0.030912496149539948, 0.991599977016449]\n"
     ]
    }
   ],
   "source": [
    "score = model.evaluate(test_dataset)\n",
    "print('last score:', score)\n"
   ]
  }
 ],
 "metadata": {
  "kernelspec": {
   "display_name": "Python 3.10.7 64-bit",
   "language": "python",
   "name": "python3"
  },
  "language_info": {
   "codemirror_mode": {
    "name": "ipython",
    "version": 3
   },
   "file_extension": ".py",
   "mimetype": "text/x-python",
   "name": "python",
   "nbconvert_exporter": "python",
   "pygments_lexer": "ipython3",
   "version": "3.10.7"
  },
  "orig_nbformat": 4,
  "vscode": {
   "interpreter": {
    "hash": "18778d26e07f5cf51433672e0dce97692ca0a2fce0f52f31686447156d36a51f"
   }
  }
 },
 "nbformat": 4,
 "nbformat_minor": 2
}
